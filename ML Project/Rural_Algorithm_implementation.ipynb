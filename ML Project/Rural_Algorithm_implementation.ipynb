{
 "cells": [
  {
   "cell_type": "code",
   "execution_count": 1,
   "id": "d9a60a3b-0d65-4e5b-a0d6-618071a4dff0",
   "metadata": {},
   "outputs": [],
   "source": [
    "import pandas as pd\n",
    "import matplotlib.pyplot as plt"
   ]
  },
  {
   "cell_type": "markdown",
   "id": "60d7c6be-1b0f-4b10-8e3a-de148104ba8f",
   "metadata": {},
   "source": [
    "## Load Data Set"
   ]
  },
  {
   "cell_type": "code",
   "execution_count": 6,
   "id": "d68db3ef-ef38-4b69-a881-3a576aec4b19",
   "metadata": {},
   "outputs": [],
   "source": [
    "df = pd.read_csv(\"female_rural.csv\")"
   ]
  },
  {
   "cell_type": "code",
   "execution_count": 8,
   "id": "133a8307-6d30-4bac-883b-13f571e168dd",
   "metadata": {},
   "outputs": [
    {
     "data": {
      "text/html": [
       "<div>\n",
       "<style scoped>\n",
       "    .dataframe tbody tr th:only-of-type {\n",
       "        vertical-align: middle;\n",
       "    }\n",
       "\n",
       "    .dataframe tbody tr th {\n",
       "        vertical-align: top;\n",
       "    }\n",
       "\n",
       "    .dataframe thead th {\n",
       "        text-align: right;\n",
       "    }\n",
       "</style>\n",
       "<table border=\"1\" class=\"dataframe\">\n",
       "  <thead>\n",
       "    <tr style=\"text-align: right;\">\n",
       "      <th></th>\n",
       "      <th>cc_num</th>\n",
       "      <th>acct_num</th>\n",
       "      <th>trans_num</th>\n",
       "      <th>unix_time</th>\n",
       "      <th>category</th>\n",
       "      <th>amt</th>\n",
       "      <th>is_fraud</th>\n",
       "      <th>merchant</th>\n",
       "      <th>merch_lat</th>\n",
       "      <th>merch_long</th>\n",
       "    </tr>\n",
       "  </thead>\n",
       "  <tbody>\n",
       "    <tr>\n",
       "      <th>0</th>\n",
       "      <td>4.891077e+18</td>\n",
       "      <td>402211201664</td>\n",
       "      <td>3e83e0a77771558c6daf6bdd272f6c4c</td>\n",
       "      <td>1650832775</td>\n",
       "      <td>grocery_pos</td>\n",
       "      <td>57.81</td>\n",
       "      <td>0</td>\n",
       "      <td>Johnson and Sons</td>\n",
       "      <td>38.537479</td>\n",
       "      <td>-82.777755</td>\n",
       "    </tr>\n",
       "    <tr>\n",
       "      <th>1</th>\n",
       "      <td>4.891077e+18</td>\n",
       "      <td>402211201664</td>\n",
       "      <td>20819ecd9109e9cf302f355517626bc7</td>\n",
       "      <td>1650129428</td>\n",
       "      <td>grocery_pos</td>\n",
       "      <td>69.54</td>\n",
       "      <td>0</td>\n",
       "      <td>Williams, Vega and White</td>\n",
       "      <td>40.320563</td>\n",
       "      <td>-82.720365</td>\n",
       "    </tr>\n",
       "    <tr>\n",
       "      <th>2</th>\n",
       "      <td>4.891077e+18</td>\n",
       "      <td>402211201664</td>\n",
       "      <td>92a533083ef1d32858926edf549935a1</td>\n",
       "      <td>1645891540</td>\n",
       "      <td>gas_transport</td>\n",
       "      <td>56.06</td>\n",
       "      <td>0</td>\n",
       "      <td>Gardner-Mcdonald</td>\n",
       "      <td>39.115711</td>\n",
       "      <td>-81.762917</td>\n",
       "    </tr>\n",
       "    <tr>\n",
       "      <th>3</th>\n",
       "      <td>4.891077e+18</td>\n",
       "      <td>402211201664</td>\n",
       "      <td>b516532ac635ab0c2359796d25ba33e1</td>\n",
       "      <td>1645202314</td>\n",
       "      <td>gas_transport</td>\n",
       "      <td>74.61</td>\n",
       "      <td>0</td>\n",
       "      <td>Scott, Anderson and Allison</td>\n",
       "      <td>38.785439</td>\n",
       "      <td>-81.963553</td>\n",
       "    </tr>\n",
       "    <tr>\n",
       "      <th>4</th>\n",
       "      <td>4.891077e+18</td>\n",
       "      <td>402211201664</td>\n",
       "      <td>49d86d3aca8789a0cbec73d3190044a5</td>\n",
       "      <td>1644528165</td>\n",
       "      <td>gas_transport</td>\n",
       "      <td>55.61</td>\n",
       "      <td>0</td>\n",
       "      <td>Johnston Ltd</td>\n",
       "      <td>40.022723</td>\n",
       "      <td>-83.285232</td>\n",
       "    </tr>\n",
       "  </tbody>\n",
       "</table>\n",
       "</div>"
      ],
      "text/plain": [
       "         cc_num      acct_num                         trans_num   unix_time  \\\n",
       "0  4.891077e+18  402211201664  3e83e0a77771558c6daf6bdd272f6c4c  1650832775   \n",
       "1  4.891077e+18  402211201664  20819ecd9109e9cf302f355517626bc7  1650129428   \n",
       "2  4.891077e+18  402211201664  92a533083ef1d32858926edf549935a1  1645891540   \n",
       "3  4.891077e+18  402211201664  b516532ac635ab0c2359796d25ba33e1  1645202314   \n",
       "4  4.891077e+18  402211201664  49d86d3aca8789a0cbec73d3190044a5  1644528165   \n",
       "\n",
       "        category    amt  is_fraud                     merchant  merch_lat  \\\n",
       "0    grocery_pos  57.81         0             Johnson and Sons  38.537479   \n",
       "1    grocery_pos  69.54         0     Williams, Vega and White  40.320563   \n",
       "2  gas_transport  56.06         0             Gardner-Mcdonald  39.115711   \n",
       "3  gas_transport  74.61         0  Scott, Anderson and Allison  38.785439   \n",
       "4  gas_transport  55.61         0                 Johnston Ltd  40.022723   \n",
       "\n",
       "   merch_long  \n",
       "0  -82.777755  \n",
       "1  -82.720365  \n",
       "2  -81.762917  \n",
       "3  -81.963553  \n",
       "4  -83.285232  "
      ]
     },
     "execution_count": 8,
     "metadata": {},
     "output_type": "execute_result"
    }
   ],
   "source": [
    "df.head()"
   ]
  },
  {
   "cell_type": "markdown",
   "id": "a16ca9e2-97e4-4f13-ae7f-850e6ca82a72",
   "metadata": {},
   "source": [
    "## Data Split"
   ]
  },
  {
   "cell_type": "code",
   "execution_count": 11,
   "id": "b49c7f3e-f797-4348-9d5f-091ddcb52dda",
   "metadata": {},
   "outputs": [
    {
     "data": {
      "text/html": [
       "<div>\n",
       "<style scoped>\n",
       "    .dataframe tbody tr th:only-of-type {\n",
       "        vertical-align: middle;\n",
       "    }\n",
       "\n",
       "    .dataframe tbody tr th {\n",
       "        vertical-align: top;\n",
       "    }\n",
       "\n",
       "    .dataframe thead th {\n",
       "        text-align: right;\n",
       "    }\n",
       "</style>\n",
       "<table border=\"1\" class=\"dataframe\">\n",
       "  <thead>\n",
       "    <tr style=\"text-align: right;\">\n",
       "      <th></th>\n",
       "      <th>cc_num</th>\n",
       "      <th>acct_num</th>\n",
       "      <th>trans_num</th>\n",
       "      <th>unix_time</th>\n",
       "      <th>category</th>\n",
       "      <th>amt</th>\n",
       "      <th>merchant</th>\n",
       "      <th>merch_lat</th>\n",
       "      <th>merch_long</th>\n",
       "    </tr>\n",
       "  </thead>\n",
       "  <tbody>\n",
       "    <tr>\n",
       "      <th>0</th>\n",
       "      <td>4.891077e+18</td>\n",
       "      <td>402211201664</td>\n",
       "      <td>3e83e0a77771558c6daf6bdd272f6c4c</td>\n",
       "      <td>1650832775</td>\n",
       "      <td>grocery_pos</td>\n",
       "      <td>57.81</td>\n",
       "      <td>Johnson and Sons</td>\n",
       "      <td>38.537479</td>\n",
       "      <td>-82.777755</td>\n",
       "    </tr>\n",
       "    <tr>\n",
       "      <th>1</th>\n",
       "      <td>4.891077e+18</td>\n",
       "      <td>402211201664</td>\n",
       "      <td>20819ecd9109e9cf302f355517626bc7</td>\n",
       "      <td>1650129428</td>\n",
       "      <td>grocery_pos</td>\n",
       "      <td>69.54</td>\n",
       "      <td>Williams, Vega and White</td>\n",
       "      <td>40.320563</td>\n",
       "      <td>-82.720365</td>\n",
       "    </tr>\n",
       "    <tr>\n",
       "      <th>2</th>\n",
       "      <td>4.891077e+18</td>\n",
       "      <td>402211201664</td>\n",
       "      <td>92a533083ef1d32858926edf549935a1</td>\n",
       "      <td>1645891540</td>\n",
       "      <td>gas_transport</td>\n",
       "      <td>56.06</td>\n",
       "      <td>Gardner-Mcdonald</td>\n",
       "      <td>39.115711</td>\n",
       "      <td>-81.762917</td>\n",
       "    </tr>\n",
       "    <tr>\n",
       "      <th>3</th>\n",
       "      <td>4.891077e+18</td>\n",
       "      <td>402211201664</td>\n",
       "      <td>b516532ac635ab0c2359796d25ba33e1</td>\n",
       "      <td>1645202314</td>\n",
       "      <td>gas_transport</td>\n",
       "      <td>74.61</td>\n",
       "      <td>Scott, Anderson and Allison</td>\n",
       "      <td>38.785439</td>\n",
       "      <td>-81.963553</td>\n",
       "    </tr>\n",
       "    <tr>\n",
       "      <th>4</th>\n",
       "      <td>4.891077e+18</td>\n",
       "      <td>402211201664</td>\n",
       "      <td>49d86d3aca8789a0cbec73d3190044a5</td>\n",
       "      <td>1644528165</td>\n",
       "      <td>gas_transport</td>\n",
       "      <td>55.61</td>\n",
       "      <td>Johnston Ltd</td>\n",
       "      <td>40.022723</td>\n",
       "      <td>-83.285232</td>\n",
       "    </tr>\n",
       "  </tbody>\n",
       "</table>\n",
       "</div>"
      ],
      "text/plain": [
       "         cc_num      acct_num                         trans_num   unix_time  \\\n",
       "0  4.891077e+18  402211201664  3e83e0a77771558c6daf6bdd272f6c4c  1650832775   \n",
       "1  4.891077e+18  402211201664  20819ecd9109e9cf302f355517626bc7  1650129428   \n",
       "2  4.891077e+18  402211201664  92a533083ef1d32858926edf549935a1  1645891540   \n",
       "3  4.891077e+18  402211201664  b516532ac635ab0c2359796d25ba33e1  1645202314   \n",
       "4  4.891077e+18  402211201664  49d86d3aca8789a0cbec73d3190044a5  1644528165   \n",
       "\n",
       "        category    amt                     merchant  merch_lat  merch_long  \n",
       "0    grocery_pos  57.81             Johnson and Sons  38.537479  -82.777755  \n",
       "1    grocery_pos  69.54     Williams, Vega and White  40.320563  -82.720365  \n",
       "2  gas_transport  56.06             Gardner-Mcdonald  39.115711  -81.762917  \n",
       "3  gas_transport  74.61  Scott, Anderson and Allison  38.785439  -81.963553  \n",
       "4  gas_transport  55.61                 Johnston Ltd  40.022723  -83.285232  "
      ]
     },
     "execution_count": 11,
     "metadata": {},
     "output_type": "execute_result"
    }
   ],
   "source": [
    "x_split = df.drop(['is_fraud'], axis=1)\n",
    "x_split.head()"
   ]
  },
  {
   "cell_type": "code",
   "execution_count": 13,
   "id": "cb0a808c-1f8b-4fb7-8d55-7eb08e224cae",
   "metadata": {},
   "outputs": [
    {
     "data": {
      "text/plain": [
       "0       0\n",
       "1       0\n",
       "2       0\n",
       "3       0\n",
       "4       0\n",
       "       ..\n",
       "3575    0\n",
       "3576    0\n",
       "3577    0\n",
       "3578    0\n",
       "3579    0\n",
       "Name: is_fraud, Length: 3580, dtype: int64"
      ]
     },
     "execution_count": 13,
     "metadata": {},
     "output_type": "execute_result"
    }
   ],
   "source": [
    "y_split = df['is_fraud']\n",
    "y_split"
   ]
  },
  {
   "cell_type": "markdown",
   "id": "62540832-3afd-443c-b8cc-84aa2cd4891a",
   "metadata": {},
   "source": [
    "## Using Encoding"
   ]
  },
  {
   "cell_type": "code",
   "execution_count": 16,
   "id": "67638c15-32d8-4719-92aa-b050431f1b6c",
   "metadata": {},
   "outputs": [],
   "source": [
    "from sklearn.preprocessing import LabelEncoder\n",
    "le = LabelEncoder()"
   ]
  },
  {
   "cell_type": "code",
   "execution_count": 18,
   "id": "e87e1f23-3266-45cf-859f-01bf831ea6c4",
   "metadata": {},
   "outputs": [
    {
     "data": {
      "text/html": [
       "<div>\n",
       "<style scoped>\n",
       "    .dataframe tbody tr th:only-of-type {\n",
       "        vertical-align: middle;\n",
       "    }\n",
       "\n",
       "    .dataframe tbody tr th {\n",
       "        vertical-align: top;\n",
       "    }\n",
       "\n",
       "    .dataframe thead th {\n",
       "        text-align: right;\n",
       "    }\n",
       "</style>\n",
       "<table border=\"1\" class=\"dataframe\">\n",
       "  <thead>\n",
       "    <tr style=\"text-align: right;\">\n",
       "      <th></th>\n",
       "      <th>cc_num</th>\n",
       "      <th>acct_num</th>\n",
       "      <th>trans_num</th>\n",
       "      <th>unix_time</th>\n",
       "      <th>category</th>\n",
       "      <th>amt</th>\n",
       "      <th>merchant</th>\n",
       "      <th>merch_lat</th>\n",
       "      <th>merch_long</th>\n",
       "    </tr>\n",
       "  </thead>\n",
       "  <tbody>\n",
       "    <tr>\n",
       "      <th>0</th>\n",
       "      <td>1</td>\n",
       "      <td>1</td>\n",
       "      <td>891</td>\n",
       "      <td>860</td>\n",
       "      <td>4</td>\n",
       "      <td>1690</td>\n",
       "      <td>1341</td>\n",
       "      <td>151</td>\n",
       "      <td>2370</td>\n",
       "    </tr>\n",
       "    <tr>\n",
       "      <th>1</th>\n",
       "      <td>1</td>\n",
       "      <td>1</td>\n",
       "      <td>440</td>\n",
       "      <td>789</td>\n",
       "      <td>4</td>\n",
       "      <td>1937</td>\n",
       "      <td>2964</td>\n",
       "      <td>1713</td>\n",
       "      <td>2423</td>\n",
       "    </tr>\n",
       "    <tr>\n",
       "      <th>2</th>\n",
       "      <td>1</td>\n",
       "      <td>1</td>\n",
       "      <td>2050</td>\n",
       "      <td>339</td>\n",
       "      <td>2</td>\n",
       "      <td>1649</td>\n",
       "      <td>903</td>\n",
       "      <td>681</td>\n",
       "      <td>3238</td>\n",
       "    </tr>\n",
       "    <tr>\n",
       "      <th>3</th>\n",
       "      <td>1</td>\n",
       "      <td>1</td>\n",
       "      <td>2532</td>\n",
       "      <td>284</td>\n",
       "      <td>2</td>\n",
       "      <td>2019</td>\n",
       "      <td>2438</td>\n",
       "      <td>374</td>\n",
       "      <td>3069</td>\n",
       "    </tr>\n",
       "    <tr>\n",
       "      <th>4</th>\n",
       "      <td>1</td>\n",
       "      <td>1</td>\n",
       "      <td>1059</td>\n",
       "      <td>236</td>\n",
       "      <td>2</td>\n",
       "      <td>1639</td>\n",
       "      <td>1370</td>\n",
       "      <td>1455</td>\n",
       "      <td>1889</td>\n",
       "    </tr>\n",
       "  </tbody>\n",
       "</table>\n",
       "</div>"
      ],
      "text/plain": [
       "   cc_num  acct_num  trans_num  unix_time  category   amt  merchant  \\\n",
       "0       1         1        891        860         4  1690      1341   \n",
       "1       1         1        440        789         4  1937      2964   \n",
       "2       1         1       2050        339         2  1649       903   \n",
       "3       1         1       2532        284         2  2019      2438   \n",
       "4       1         1       1059        236         2  1639      1370   \n",
       "\n",
       "   merch_lat  merch_long  \n",
       "0        151        2370  \n",
       "1       1713        2423  \n",
       "2        681        3238  \n",
       "3        374        3069  \n",
       "4       1455        1889  "
      ]
     },
     "execution_count": 18,
     "metadata": {},
     "output_type": "execute_result"
    }
   ],
   "source": [
    "X_encoder = x_split.apply(LabelEncoder().fit_transform)\n",
    "X_encoder.head()"
   ]
  },
  {
   "cell_type": "code",
   "execution_count": 20,
   "id": "77e540cd-ad4d-45c1-bd3b-f2946d6dff2e",
   "metadata": {},
   "outputs": [
    {
     "data": {
      "text/html": [
       "<div>\n",
       "<style scoped>\n",
       "    .dataframe tbody tr th:only-of-type {\n",
       "        vertical-align: middle;\n",
       "    }\n",
       "\n",
       "    .dataframe tbody tr th {\n",
       "        vertical-align: top;\n",
       "    }\n",
       "\n",
       "    .dataframe thead th {\n",
       "        text-align: right;\n",
       "    }\n",
       "</style>\n",
       "<table border=\"1\" class=\"dataframe\">\n",
       "  <thead>\n",
       "    <tr style=\"text-align: right;\">\n",
       "      <th></th>\n",
       "      <th>cc_num</th>\n",
       "      <th>acct_num</th>\n",
       "      <th>trans_num</th>\n",
       "      <th>unix_time</th>\n",
       "      <th>category</th>\n",
       "      <th>amt</th>\n",
       "      <th>merchant</th>\n",
       "      <th>merch_lat</th>\n",
       "      <th>merch_long</th>\n",
       "    </tr>\n",
       "  </thead>\n",
       "  <tbody>\n",
       "    <tr>\n",
       "      <th>0</th>\n",
       "      <td>1</td>\n",
       "      <td>1</td>\n",
       "      <td>891</td>\n",
       "      <td>860</td>\n",
       "      <td>4</td>\n",
       "      <td>1690</td>\n",
       "      <td>1341</td>\n",
       "      <td>151</td>\n",
       "      <td>2370</td>\n",
       "    </tr>\n",
       "    <tr>\n",
       "      <th>1</th>\n",
       "      <td>1</td>\n",
       "      <td>1</td>\n",
       "      <td>440</td>\n",
       "      <td>789</td>\n",
       "      <td>4</td>\n",
       "      <td>1937</td>\n",
       "      <td>2964</td>\n",
       "      <td>1713</td>\n",
       "      <td>2423</td>\n",
       "    </tr>\n",
       "    <tr>\n",
       "      <th>2</th>\n",
       "      <td>1</td>\n",
       "      <td>1</td>\n",
       "      <td>2050</td>\n",
       "      <td>339</td>\n",
       "      <td>2</td>\n",
       "      <td>1649</td>\n",
       "      <td>903</td>\n",
       "      <td>681</td>\n",
       "      <td>3238</td>\n",
       "    </tr>\n",
       "    <tr>\n",
       "      <th>3</th>\n",
       "      <td>1</td>\n",
       "      <td>1</td>\n",
       "      <td>2532</td>\n",
       "      <td>284</td>\n",
       "      <td>2</td>\n",
       "      <td>2019</td>\n",
       "      <td>2438</td>\n",
       "      <td>374</td>\n",
       "      <td>3069</td>\n",
       "    </tr>\n",
       "    <tr>\n",
       "      <th>4</th>\n",
       "      <td>1</td>\n",
       "      <td>1</td>\n",
       "      <td>1059</td>\n",
       "      <td>236</td>\n",
       "      <td>2</td>\n",
       "      <td>1639</td>\n",
       "      <td>1370</td>\n",
       "      <td>1455</td>\n",
       "      <td>1889</td>\n",
       "    </tr>\n",
       "  </tbody>\n",
       "</table>\n",
       "</div>"
      ],
      "text/plain": [
       "   cc_num  acct_num  trans_num  unix_time  category   amt  merchant  \\\n",
       "0       1         1        891        860         4  1690      1341   \n",
       "1       1         1        440        789         4  1937      2964   \n",
       "2       1         1       2050        339         2  1649       903   \n",
       "3       1         1       2532        284         2  2019      2438   \n",
       "4       1         1       1059        236         2  1639      1370   \n",
       "\n",
       "   merch_lat  merch_long  \n",
       "0        151        2370  \n",
       "1       1713        2423  \n",
       "2        681        3238  \n",
       "3        374        3069  \n",
       "4       1455        1889  "
      ]
     },
     "execution_count": 20,
     "metadata": {},
     "output_type": "execute_result"
    }
   ],
   "source": [
    "X = X_encoder\n",
    "X.head()"
   ]
  },
  {
   "cell_type": "code",
   "execution_count": 22,
   "id": "433fcb19-3050-4d10-af2e-56bf94a2c99c",
   "metadata": {},
   "outputs": [
    {
     "data": {
      "text/plain": [
       "0    0\n",
       "1    0\n",
       "2    0\n",
       "3    0\n",
       "4    0\n",
       "Name: is_fraud, dtype: int64"
      ]
     },
     "execution_count": 22,
     "metadata": {},
     "output_type": "execute_result"
    }
   ],
   "source": [
    "y = y_split\n",
    "y.head()"
   ]
  },
  {
   "cell_type": "markdown",
   "id": "fa0ca3fa-f09f-474e-99e6-d30848ace681",
   "metadata": {},
   "source": [
    "## Train & Test Data Split"
   ]
  },
  {
   "cell_type": "code",
   "execution_count": 25,
   "id": "07b7812f-0547-4ba9-906a-9f96b0d3cb94",
   "metadata": {},
   "outputs": [],
   "source": [
    "import numpy as np\n",
    "from sklearn.model_selection import train_test_split\n",
    "X_train, X_test, y_train, y_test = train_test_split(X, y, test_size=0.2, random_state=42)"
   ]
  },
  {
   "cell_type": "code",
   "execution_count": 27,
   "id": "d23368d1-16eb-4cda-ba8e-36bc7e43fab2",
   "metadata": {},
   "outputs": [
    {
     "data": {
      "text/plain": [
       "(2864, 9)"
      ]
     },
     "execution_count": 27,
     "metadata": {},
     "output_type": "execute_result"
    }
   ],
   "source": [
    "X_train.shape"
   ]
  },
  {
   "cell_type": "code",
   "execution_count": 29,
   "id": "ea0d7e87-11da-48cc-99ed-05928a0040ae",
   "metadata": {},
   "outputs": [
    {
     "data": {
      "text/plain": [
       "(716, 9)"
      ]
     },
     "execution_count": 29,
     "metadata": {},
     "output_type": "execute_result"
    }
   ],
   "source": [
    "X_test.shape"
   ]
  },
  {
   "cell_type": "code",
   "execution_count": 31,
   "id": "74664c82-ae84-4c13-8dae-76b17b8876fa",
   "metadata": {},
   "outputs": [
    {
     "data": {
      "text/plain": [
       "(2864,)"
      ]
     },
     "execution_count": 31,
     "metadata": {},
     "output_type": "execute_result"
    }
   ],
   "source": [
    "y_train.shape"
   ]
  },
  {
   "cell_type": "code",
   "execution_count": 33,
   "id": "1f9f9d77-e4f3-47ac-9766-b2f649913366",
   "metadata": {},
   "outputs": [
    {
     "data": {
      "text/plain": [
       "(716,)"
      ]
     },
     "execution_count": 33,
     "metadata": {},
     "output_type": "execute_result"
    }
   ],
   "source": [
    "y_test.shape"
   ]
  },
  {
   "cell_type": "markdown",
   "id": "f3cfd2db-b7c5-42b1-b0e2-de596f6efd52",
   "metadata": {},
   "source": [
    "## Algorithm Implementation & Creat The Classification"
   ]
  },
  {
   "cell_type": "markdown",
   "id": "56c07605-cbaa-434d-9d27-f7aa06b4fee1",
   "metadata": {},
   "source": [
    "## Decession Tree Algorithm"
   ]
  },
  {
   "cell_type": "code",
   "execution_count": 38,
   "id": "f4b4f0c1-a7e6-4c2e-a109-307f9e3fd2b9",
   "metadata": {},
   "outputs": [
    {
     "data": {
      "text/plain": [
       "array([0, 0, 0, 0, 0, 0, 0, 0, 0, 0, 0, 0, 0, 0, 0, 0, 0, 0, 0, 0, 0, 0,\n",
       "       0, 0, 0, 0, 0, 0, 0, 0, 0, 0, 0, 0, 0, 0, 0, 0, 0, 0, 0, 0, 0, 0,\n",
       "       0, 0, 0, 0, 0, 0, 0, 0, 0, 0, 0, 0, 0, 0, 0, 0, 0, 0, 0, 0, 0, 0,\n",
       "       0, 0, 0, 0, 0, 0, 0, 0, 0, 0, 0, 0, 0, 0, 0, 0, 0, 0, 0, 0, 0, 0,\n",
       "       0, 0, 0, 0, 0, 0, 0, 0, 0, 0, 0, 0, 0, 0, 0, 0, 0, 0, 0, 0, 0, 0,\n",
       "       0, 0, 0, 0, 0, 0, 0, 0, 0, 0, 0, 0, 0, 0, 0, 0, 0, 0, 0, 0, 0, 0,\n",
       "       0, 0, 0, 0, 0, 0, 0, 0, 0, 0, 0, 0, 0, 0, 0, 0, 0, 0, 0, 0, 0, 0,\n",
       "       0, 0, 0, 0, 0, 0, 0, 0, 0, 0, 0, 0, 0, 0, 0, 0, 0, 0, 0, 0, 0, 0,\n",
       "       0, 0, 0, 0, 0, 0, 0, 0, 0, 0, 0, 0, 0, 0, 0, 0, 0, 0, 0, 0, 0, 0,\n",
       "       0, 0, 0, 0, 0, 0, 0, 0, 0, 0, 0, 0, 0, 0, 0, 0, 0, 0, 0, 0, 0, 0,\n",
       "       0, 0, 0, 0, 0, 0, 0, 0, 0, 0, 0, 0, 0, 0, 0, 0, 0, 0, 0, 0, 0, 0,\n",
       "       0, 0, 0, 0, 0, 0, 0, 0, 0, 0, 0, 0, 0, 0, 0, 0, 0, 0, 0, 0, 0, 0,\n",
       "       0, 0, 0, 0, 0, 0, 0, 0, 0, 0, 0, 0, 0, 0, 0, 0, 0, 0, 0, 0, 0, 0,\n",
       "       0, 0, 0, 0, 0, 0, 0, 0, 0, 0, 0, 0, 0, 0, 0, 0, 0, 0, 0, 0, 0, 0,\n",
       "       0, 0, 0, 0, 0, 0, 0, 0, 0, 0, 0, 0, 0, 0, 0, 0, 0, 0, 0, 0, 0, 0,\n",
       "       0, 0, 0, 0, 0, 0, 0, 0, 0, 0, 0, 0, 0, 0, 0, 0, 0, 0, 0, 0, 0, 0,\n",
       "       0, 0, 0, 0, 0, 0, 0, 0, 0, 0, 0, 0, 0, 0, 0, 0, 0, 0, 0, 0, 0, 0,\n",
       "       0, 0, 0, 0, 0, 0, 0, 0, 0, 0, 0, 0, 0, 0, 0, 0, 0, 0, 0, 0, 0, 0,\n",
       "       0, 0, 0, 0, 0, 0, 0, 0, 0, 0, 0, 0, 0, 0, 0, 0, 0, 0, 0, 0, 0, 0,\n",
       "       0, 0, 0, 0, 0, 0, 0, 0, 0, 0, 0, 0, 0, 0, 0, 0, 0, 0, 0, 0, 0, 0,\n",
       "       0, 0, 0, 0, 0, 0, 0, 0, 0, 0, 0, 0, 0, 0, 0, 0, 0, 0, 0, 0, 0, 0,\n",
       "       0, 0, 0, 0, 0, 0, 0, 0, 0, 0, 0, 0, 0, 0, 0, 0, 0, 0, 0, 0, 0, 0,\n",
       "       0, 0, 0, 0, 0, 0, 0, 0, 0, 0, 0, 0, 0, 0, 0, 0, 0, 0, 0, 0, 0, 0,\n",
       "       0, 0, 0, 0, 0, 0, 0, 0, 0, 0, 0, 0, 0, 0, 0, 0, 0, 0, 0, 0, 0, 0,\n",
       "       0, 0, 0, 0, 0, 0, 0, 0, 0, 0, 0, 0, 0, 0, 0, 0, 0, 0, 0, 0, 0, 0,\n",
       "       0, 0, 0, 0, 0, 0, 0, 0, 0, 0, 0, 0, 0, 0, 0, 0, 0, 0, 0, 0, 0, 0,\n",
       "       0, 0, 0, 0, 0, 0, 0, 0, 0, 0, 0, 0, 0, 0, 0, 0, 0, 0, 0, 0, 0, 0,\n",
       "       0, 0, 0, 0, 0, 0, 0, 0, 0, 0, 0, 0, 0, 0, 0, 0, 0, 0, 0, 0, 0, 0,\n",
       "       0, 0, 0, 0, 0, 0, 0, 0, 0, 0, 0, 0, 0, 0, 0, 0, 0, 0, 0, 0, 0, 0,\n",
       "       0, 0, 0, 0, 0, 0, 0, 0, 0, 0, 0, 0, 0, 0, 0, 0, 0, 0, 0, 0, 0, 0,\n",
       "       0, 0, 0, 0, 0, 0, 0, 0, 0, 0, 0, 0, 0, 0, 0, 0, 0, 0, 0, 0, 0, 0,\n",
       "       0, 0, 0, 0, 0, 0, 0, 0, 0, 0, 0, 0, 0, 0, 0, 0, 0, 0, 0, 0, 0, 0,\n",
       "       0, 0, 0, 0, 0, 0, 0, 0, 0, 0, 0, 0], dtype=int64)"
      ]
     },
     "execution_count": 38,
     "metadata": {},
     "output_type": "execute_result"
    }
   ],
   "source": [
    "from sklearn import tree\n",
    "model = tree.DecisionTreeClassifier(class_weight='balanced', random_state=42)\n",
    "model.fit(X_train, y_train)\n",
    "y_pred = model.predict(X_test)\n",
    "y_pred\n"
   ]
  },
  {
   "cell_type": "code",
   "execution_count": 40,
   "id": "058b0275-8832-41f5-a4a9-339bfe2732de",
   "metadata": {},
   "outputs": [
    {
     "name": "stdout",
     "output_type": "stream",
     "text": [
      "Accuracy: 1.0000\n"
     ]
    }
   ],
   "source": [
    "from sklearn.metrics import accuracy_score\n",
    "accuracy = accuracy_score(y_test, y_pred)\n",
    "print(f\"Accuracy: {accuracy:.4f}\")"
   ]
  },
  {
   "cell_type": "markdown",
   "id": "c21b1bdd-c279-4c16-80fc-ab785df4ca04",
   "metadata": {},
   "source": [
    "## Random Forest Algorithm"
   ]
  },
  {
   "cell_type": "code",
   "execution_count": 43,
   "id": "a484873d-f0ef-4c4c-84bb-7786dbd8c93e",
   "metadata": {},
   "outputs": [
    {
     "name": "stdout",
     "output_type": "stream",
     "text": [
      "Accuracy: 1.0000\n"
     ]
    }
   ],
   "source": [
    "from sklearn.ensemble import RandomForestClassifier\n",
    "from sklearn.metrics import accuracy_score\n",
    "\n",
    "rf_model = RandomForestClassifier(n_estimators=100, random_state=42)  \n",
    "rf_model.fit(X_train, y_train)\n",
    "y_pred = rf_model.predict(X_test)\n",
    "\n",
    "accuracy = accuracy_score(y_test, y_pred)  \n",
    "print(f\"Accuracy: {accuracy:.4f}\")\n"
   ]
  },
  {
   "cell_type": "markdown",
   "id": "21df3cfc-7343-4af2-b62e-cab095ae36c7",
   "metadata": {},
   "source": [
    "## Ensemble Learning Implementaion"
   ]
  },
  {
   "cell_type": "code",
   "execution_count": 46,
   "id": "481cefa7-261f-4185-b337-60cb6aa668af",
   "metadata": {},
   "outputs": [
    {
     "name": "stdout",
     "output_type": "stream",
     "text": [
      "Dataset head:\n",
      "          cc_num      acct_num                         trans_num   unix_time  \\\n",
      "0  4.891077e+18  402211201664  3e83e0a77771558c6daf6bdd272f6c4c  1650832775   \n",
      "1  4.891077e+18  402211201664  20819ecd9109e9cf302f355517626bc7  1650129428   \n",
      "2  4.891077e+18  402211201664  92a533083ef1d32858926edf549935a1  1645891540   \n",
      "3  4.891077e+18  402211201664  b516532ac635ab0c2359796d25ba33e1  1645202314   \n",
      "4  4.891077e+18  402211201664  49d86d3aca8789a0cbec73d3190044a5  1644528165   \n",
      "\n",
      "        category    amt  is_fraud                     merchant  merch_lat  \\\n",
      "0    grocery_pos  57.81         0             Johnson and Sons  38.537479   \n",
      "1    grocery_pos  69.54         0     Williams, Vega and White  40.320563   \n",
      "2  gas_transport  56.06         0             Gardner-Mcdonald  39.115711   \n",
      "3  gas_transport  74.61         0  Scott, Anderson and Allison  38.785439   \n",
      "4  gas_transport  55.61         0                 Johnston Ltd  40.022723   \n",
      "\n",
      "   merch_long  \n",
      "0  -82.777755  \n",
      "1  -82.720365  \n",
      "2  -81.762917  \n",
      "3  -81.963553  \n",
      "4  -83.285232  \n",
      "\n",
      "Dataset info:\n",
      "\n",
      "<class 'pandas.core.frame.DataFrame'>\n",
      "RangeIndex: 3580 entries, 0 to 3579\n",
      "Data columns (total 10 columns):\n",
      " #   Column      Non-Null Count  Dtype  \n",
      "---  ------      --------------  -----  \n",
      " 0   cc_num      3580 non-null   float64\n",
      " 1   acct_num    3580 non-null   int64  \n",
      " 2   trans_num   3580 non-null   object \n",
      " 3   unix_time   3580 non-null   int64  \n",
      " 4   category    3580 non-null   object \n",
      " 5   amt         3580 non-null   float64\n",
      " 6   is_fraud    3580 non-null   int64  \n",
      " 7   merchant    3580 non-null   object \n",
      " 8   merch_lat   3580 non-null   float64\n",
      " 9   merch_long  3580 non-null   float64\n",
      "dtypes: float64(4), int64(3), object(3)\n",
      "memory usage: 279.8+ KB\n",
      "Converting continuous target into categorical labels.\n",
      "Ensemble Model Accuracy: 1.00\n"
     ]
    }
   ],
   "source": [
    "import pandas as pd\n",
    "from sklearn.model_selection import train_test_split\n",
    "from sklearn.preprocessing import StandardScaler\n",
    "from sklearn.neighbors import KNeighborsClassifier\n",
    "from sklearn.linear_model import LogisticRegression\n",
    "from sklearn.svm import SVC\n",
    "from sklearn.tree import DecisionTreeClassifier\n",
    "from sklearn.ensemble import RandomForestClassifier, VotingClassifier\n",
    "from sklearn.metrics import accuracy_score\n",
    "from sklearn.exceptions import NotFittedError\n",
    "\n",
    "file_path = (\"female_rural.csv\")\n",
    "try:\n",
    "    data = pd.read_csv(file_path)\n",
    "except FileNotFoundError:\n",
    "    print(\"Error: File not found. Please check the file path.\")\n",
    "    exit()\n",
    "\n",
    "print(\"Dataset head:\\n\", data.head())\n",
    "print(\"\\nDataset info:\\n\")\n",
    "data.info()\n",
    "\n",
    "if data.isnull().sum().sum() > 0:\n",
    "    print(\"Warning: Dataset contains missing values. Filling with mean.\")\n",
    "    data.fillna(data.mean(), inplace=True)\n",
    "\n",
    "X = data.iloc[:, :-1]\n",
    "y = data.iloc[:, -1]\n",
    "\n",
    "if pd.api.types.is_numeric_dtype(y) and y.nunique() > 10:\n",
    "    print(\"Converting continuous target into categorical labels.\")\n",
    "    y = pd.cut(y, bins=3, labels=[0, 1, 2])  # Binning into 3 classes as an example\n",
    "\n",
    "X = pd.get_dummies(X, drop_first=True) \n",
    "\n",
    "# Train-test split\n",
    "X_train, X_test, y_train, y_test = train_test_split(X, y, test_size=0.2, random_state=42)\n",
    "\n",
    "# Scale the features\n",
    "scaler = StandardScaler()\n",
    "X_train = scaler.fit_transform(X_train)\n",
    "X_test = scaler.transform(X_test)\n",
    "\n",
    "# Initialize classifiers\n",
    "knn = KNeighborsClassifier()\n",
    "log_reg = LogisticRegression(max_iter=200)  \n",
    "svm = SVC(probability=True)\n",
    "dec_tree = DecisionTreeClassifier()\n",
    "rand_forest = RandomForestClassifier()\n",
    "\n",
    "voting_clf = VotingClassifier(\n",
    "    estimators=[\n",
    "        ('knn', knn),\n",
    "        ('log_reg', log_reg),\n",
    "        ('svm', svm),\n",
    "        ('dec_tree', dec_tree),\n",
    "        ('rand_forest', rand_forest)\n",
    "    ],\n",
    "    voting='soft'  \n",
    ")\n",
    "\n",
    "try:\n",
    "    voting_clf.fit(X_train, y_train)\n",
    "    fitted = True\n",
    "except Exception as e:\n",
    "    print(f\"Error during model training: {e}\")\n",
    "    fitted = False\n",
    "\n",
    "if fitted:\n",
    "    try:\n",
    "        y_pred = voting_clf.predict(X_test)\n",
    "        accuracy = accuracy_score(y_test, y_pred)\n",
    "        print(f'Ensemble Model Accuracy: {accuracy:.2f}')\n",
    "    except NotFittedError:\n",
    "        print(\"The VotingClassifier instance is not fitted yet. Please check individual classifiers.\")\n",
    "else:\n",
    "    print(\"Model training failed, unable to perform predictions.\")\n"
   ]
  },
  {
   "cell_type": "code",
   "execution_count": null,
   "id": "c5d0dc08-9d35-4150-a2a3-d102e76061b1",
   "metadata": {},
   "outputs": [],
   "source": []
  }
 ],
 "metadata": {
  "kernelspec": {
   "display_name": "Python 3 (ipykernel)",
   "language": "python",
   "name": "python3"
  },
  "language_info": {
   "codemirror_mode": {
    "name": "ipython",
    "version": 3
   },
   "file_extension": ".py",
   "mimetype": "text/x-python",
   "name": "python",
   "nbconvert_exporter": "python",
   "pygments_lexer": "ipython3",
   "version": "3.12.4"
  }
 },
 "nbformat": 4,
 "nbformat_minor": 5
}
