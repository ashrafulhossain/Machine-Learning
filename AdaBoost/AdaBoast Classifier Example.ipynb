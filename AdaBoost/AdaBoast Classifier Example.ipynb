{
 "cells": [
  {
   "cell_type": "code",
   "execution_count": 5,
   "id": "fc604a9b-2da9-4005-acf1-511dcc34ff0f",
   "metadata": {},
   "outputs": [
    {
     "name": "stderr",
     "output_type": "stream",
     "text": [
      "C:\\Users\\Ashraful\\anaconda3\\Lib\\site-packages\\sklearn\\ensemble\\_weight_boosting.py:519: FutureWarning: The SAMME.R algorithm (the default) is deprecated and will be removed in 1.6. Use the SAMME algorithm to circumvent this warning.\n",
      "  warnings.warn(\n"
     ]
    },
    {
     "name": "stdout",
     "output_type": "stream",
     "text": [
      "Accuracy Score: 90.00%\n"
     ]
    }
   ],
   "source": [
    "# library Import\n",
    "from sklearn.ensemble import AdaBoostClassifier\n",
    "from sklearn.tree import DecisionTreeClassifier\n",
    "from sklearn.datasets import make_classification\n",
    "from sklearn.model_selection import train_test_split\n",
    "from sklearn.metrics import accuracy_score\n",
    "\n",
    "# Create Dataset\n",
    "X, y = make_classification(n_samples=500, n_features=2, n_informative=2, n_redundant=0, random_state=42)\n",
    "\n",
    "# Split The Data\n",
    "X_train, X_test, y_train, y_test = train_test_split(X, y, test_size=0.3, random_state=42)\n",
    "\n",
    "# Apply decision tree model\n",
    "weak_learner = DecisionTreeClassifier(max_depth=1)\n",
    "\n",
    "# Implement AdaBoost Model\n",
    "adaboost = AdaBoostClassifier(estimator=weak_learner, n_estimators=50, random_state=42)\n",
    "\n",
    "# Train The data set\n",
    "adaboost.fit(X_train, y_train)\n",
    "\n",
    "# Prediction Output\n",
    "y_pred = adaboost.predict(X_test)\n",
    "\n",
    "# Score Measurment\n",
    "accuracy = accuracy_score(y_test, y_pred)\n",
    "\n",
    "print(f\"Accuracy Score: {accuracy * 100:.2f}%\")\n"
   ]
  },
  {
   "cell_type": "code",
   "execution_count": null,
   "id": "0bf2e890-62a6-4a75-81af-82317ba2459e",
   "metadata": {},
   "outputs": [],
   "source": []
  }
 ],
 "metadata": {
  "kernelspec": {
   "display_name": "Python 3 (ipykernel)",
   "language": "python",
   "name": "python3"
  },
  "language_info": {
   "codemirror_mode": {
    "name": "ipython",
    "version": 3
   },
   "file_extension": ".py",
   "mimetype": "text/x-python",
   "name": "python",
   "nbconvert_exporter": "python",
   "pygments_lexer": "ipython3",
   "version": "3.12.4"
  }
 },
 "nbformat": 4,
 "nbformat_minor": 5
}
