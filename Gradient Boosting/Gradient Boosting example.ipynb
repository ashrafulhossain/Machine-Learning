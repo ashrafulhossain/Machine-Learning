{
 "cells": [
  {
   "cell_type": "code",
   "execution_count": 1,
   "id": "0e5d3d3c-76ec-4dc3-905e-ef69a9bbbaa2",
   "metadata": {},
   "outputs": [
    {
     "name": "stdout",
     "output_type": "stream",
     "text": [
      "Gradient Boosting Classifier accuracy is : 0.98\n"
     ]
    }
   ],
   "source": [
    "# Import models and utility functions\n",
    "from sklearn.ensemble import GradientBoostingClassifier\n",
    "from sklearn.model_selection import train_test_split\n",
    "from sklearn.metrics import accuracy_score\n",
    "from sklearn.datasets import load_digits\n",
    "\n",
    "# Setting SEED for reproducibility\n",
    "SEED = 23\n",
    "\n",
    "# Importing the dataset \n",
    "X, y = load_digits(return_X_y=True)\n",
    "\n",
    "# Splitting dataset\n",
    "train_X, test_X, train_y, test_y = train_test_split(X, y, \n",
    "\t\t\t\t\t\t\t\t\t\t\t\t\ttest_size = 0.25, \n",
    "\t\t\t\t\t\t\t\t\t\t\t\t\trandom_state = SEED)\n",
    "\n",
    "# Instantiate Gradient Boosting Regressor\n",
    "gbc = GradientBoostingClassifier(n_estimators=300,\n",
    "\t\t\t\t\t\t\t\tlearning_rate=0.05,\n",
    "\t\t\t\t\t\t\t\trandom_state=100,\n",
    "\t\t\t\t\t\t\t\tmax_features=5 )\n",
    "# Fit to training set\n",
    "gbc.fit(train_X, train_y)\n",
    "\n",
    "# Predict on test set\n",
    "pred_y = gbc.predict(test_X)\n",
    "\n",
    "# accuracy\n",
    "acc = accuracy_score(test_y, pred_y)\n",
    "print(\"Gradient Boosting Classifier accuracy is : {:.2f}\".format(acc))\n"
   ]
  },
  {
   "cell_type": "code",
   "execution_count": null,
   "id": "b0804de0-de95-41cd-8c90-7bbcbb8da804",
   "metadata": {},
   "outputs": [],
   "source": []
  }
 ],
 "metadata": {
  "kernelspec": {
   "display_name": "Python 3 (ipykernel)",
   "language": "python",
   "name": "python3"
  },
  "language_info": {
   "codemirror_mode": {
    "name": "ipython",
    "version": 3
   },
   "file_extension": ".py",
   "mimetype": "text/x-python",
   "name": "python",
   "nbconvert_exporter": "python",
   "pygments_lexer": "ipython3",
   "version": "3.12.4"
  }
 },
 "nbformat": 4,
 "nbformat_minor": 5
}
